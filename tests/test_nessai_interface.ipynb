{
 "cells": [
  {
   "cell_type": "code",
   "execution_count": 1,
   "id": "25e7b396",
   "metadata": {},
   "outputs": [],
   "source": [
    "import jax\n",
    "import jax.numpy as jnp\n",
    "import discovery as ds\n",
    "import eryn\n",
    "import glob\n",
    "\n",
    "from discoverysamplers.nessai_interface import DiscoveryNessaiBridge"
   ]
  },
  {
   "cell_type": "code",
   "execution_count": 2,
   "id": "d5e752e1",
   "metadata": {},
   "outputs": [
    {
     "name": "stdout",
     "output_type": "stream",
     "text": [
      "Loaded 67 pulsars from feather files.\n",
      "Building likelihood for 3 pulsars...\n",
      "...done.\n"
     ]
    }
   ],
   "source": [
    "allpsrs = [ds.Pulsar.read_feather(psrfile) for psrfile in sorted(glob.glob('../data/NanoGrav_15yr/*-[JB]*.feather'))]\n",
    "\n",
    "print(f\"Loaded {len(allpsrs)} pulsars from feather files.\")\n",
    "\n",
    "psrs = allpsrs[:3]\n",
    "\n",
    "print(\"Building likelihood for 3 pulsars...\")\n",
    "\n",
    "m = ds.ArrayLikelihood([ds.PulsarLikelihood([psr.residuals,\n",
    "                                        ds.makenoise_measurement(psr, psr.noisedict),\n",
    "                                        ds.makegp_ecorr(psr, psr.noisedict),\n",
    "                                        ds.makegp_timing(psr, svd=True),\n",
    "                                        ds.makegp_fourier(psr, ds.powerlaw, components=30, name='rednoise')])\n",
    "                for psr in psrs])\n",
    "print(\"...done.\")"
   ]
  },
  {
   "cell_type": "code",
   "execution_count": 3,
   "id": "eb97e805",
   "metadata": {},
   "outputs": [
    {
     "data": {
      "text/plain": [
       "['B1855+09_rednoise_gamma',\n",
       " 'B1855+09_rednoise_log10_A',\n",
       " 'B1937+21_rednoise_gamma',\n",
       " 'B1937+21_rednoise_log10_A',\n",
       " 'B1953+29_rednoise_gamma',\n",
       " 'B1953+29_rednoise_log10_A']"
      ]
     },
     "execution_count": 3,
     "metadata": {},
     "output_type": "execute_result"
    }
   ],
   "source": [
    "\n",
    "m.logL.params"
   ]
  },
  {
   "cell_type": "code",
   "execution_count": 4,
   "id": "41a7a749",
   "metadata": {},
   "outputs": [
    {
     "name": "stdout",
     "output_type": "stream",
     "text": [
      "{'B1855+09_rednoise_gamma': '$\\\\gamma_{B1855+09}$', 'B1855+09_rednoise_log10_A': '$\\\\log_{10} A_{B1855+09}$', 'B1937+21_rednoise_gamma': '$\\\\gamma_{B1937+21}$', 'B1937+21_rednoise_log10_A': '$\\\\log_{10} A_{B1937+21}$', 'B1953+29_rednoise_gamma': '$\\\\gamma_{B1953+29}$', 'B1953+29_rednoise_log10_A': '$\\\\log_{10} A_{B1953+29}$'}\n"
     ]
    }
   ],
   "source": [
    "# Make Latex labels for parameters\n",
    "latex_labels = {}\n",
    "for param in m.logL.params:\n",
    "    if 'log10_A' in param:\n",
    "        pulsar_name = param.split('_rednoise_')[0]\n",
    "        latex_labels[param] = r\"$\\log_{10} A_{\" + pulsar_name + r\"}$\"\n",
    "    elif 'gamma' in param:\n",
    "        pulsar_name = param.split('_rednoise_')[0]\n",
    "        latex_labels[param] = r\"$\\gamma_{\" + pulsar_name + r\"}$\"\n",
    "    else:\n",
    "        latex_labels[param] = param\n",
    "print(latex_labels)"
   ]
  },
  {
   "cell_type": "code",
   "execution_count": 5,
   "id": "d7e25b4e",
   "metadata": {},
   "outputs": [
    {
     "name": "stdout",
     "output_type": "stream",
     "text": [
      "{'B1855+09_rednoise_gamma': 0.16528082861610516, 'B1855+09_rednoise_log10_A': -16.970918107546076, 'B1937+21_rednoise_gamma': 3.703796365577012, 'B1937+21_rednoise_log10_A': -16.096158910296648, 'B1953+29_rednoise_gamma': 1.364998024247709, 'B1953+29_rednoise_log10_A': -12.931125013285767}\n"
     ]
    },
    {
     "data": {
      "text/plain": [
       "Array(437726.75298959, dtype=float64)"
      ]
     },
     "execution_count": 5,
     "metadata": {},
     "output_type": "execute_result"
    }
   ],
   "source": [
    "p0 = ds.sample_uniform(m.logL.params, n=1)\n",
    "print(p0)\n",
    "m.logL(p0)"
   ]
  },
  {
   "cell_type": "code",
   "execution_count": 6,
   "id": "e2951797",
   "metadata": {},
   "outputs": [],
   "source": [
    "\n",
    "test_priors = {\n",
    "    'B1855+09_rednoise_gamma': {'dist': 'uniform', 'min': 0, 'max': 7},\n",
    "    'B1855+09_rednoise_log10_A': {'dist': 'uniform', 'min': -20, 'max': -11},\n",
    "    'B1937+21_rednoise_gamma': {'dist': 'uniform', 'min': 0, 'max': 7},\n",
    "    'B1937+21_rednoise_log10_A': {'dist': 'fixed', 'value': -13.5},\n",
    "    'B1953+29_rednoise_gamma': {'dist': 'fixed', 'value': 3},\n",
    "    'B1953+29_rednoise_log10_A': {'dist': 'uniform', 'min': -20, 'max': -11},\n",
    "}"
   ]
  },
  {
   "cell_type": "code",
   "execution_count": 7,
   "id": "cab8de40",
   "metadata": {},
   "outputs": [],
   "source": [
    "bridge = DiscoveryNessaiBridge(m, priors=test_priors, latex_labels=latex_labels)"
   ]
  },
  {
   "cell_type": "code",
   "execution_count": 8,
   "id": "2cfd5806",
   "metadata": {},
   "outputs": [
    {
     "name": "stdout",
     "output_type": "stream",
     "text": [
      "['B1855+09_rednoise_gamma', 'B1855+09_rednoise_log10_A', 'B1937+21_rednoise_gamma', 'B1953+29_rednoise_log10_A']\n",
      "{'B1937+21_rednoise_log10_A': -13.5, 'B1953+29_rednoise_gamma': 3.0}\n"
     ]
    }
   ],
   "source": [
    "print(bridge.sampled_names)\n",
    "print(bridge.fixed_params)\n"
   ]
  },
  {
   "cell_type": "code",
   "execution_count": 9,
   "id": "664e7b86",
   "metadata": {},
   "outputs": [
    {
     "name": "stderr",
     "output_type": "stream",
     "text": [
      "/opt/homebrew/Caskroom/miniconda/base/envs/PTAEnterprise/lib/python3.10/site-packages/nessai/gw/__init__.py:12: FutureWarning: The `nessai.gw` module will be deprecated in the next release in favour of the nessai-gw package. This packages provides the same functionality as`nessai.gw` via the plugin interface.For more details, see: https://github.com/mj-will/nessai-gw\n",
      "  warnings.warn(\n"
     ]
    }
   ],
   "source": [
    "sampler = bridge.run_sampler()"
   ]
  },
  {
   "cell_type": "code",
   "execution_count": 10,
   "id": "d509a59e",
   "metadata": {},
   "outputs": [
    {
     "name": "stdout",
     "output_type": "stream",
     "text": [
      "['B1855+09_rednoise_gamma', 'B1855+09_rednoise_log10_A', 'B1937+21_rednoise_gamma', 'B1953+29_rednoise_log10_A']\n",
      "(3825, 4)\n"
     ]
    }
   ],
   "source": [
    "# Get the chain samples from the dict\n",
    "samples = bridge.return_sampled_samples()\n",
    "print(samples[\"names\"])\n",
    "print(samples[\"chain\"].shape) "
   ]
  },
  {
   "cell_type": "code",
   "execution_count": 11,
   "id": "81ba5e16",
   "metadata": {},
   "outputs": [
    {
     "name": "stderr",
     "output_type": "stream",
     "text": [
      "/Users/jeg/Documents/discovery/discoverysamplers/src/discoverysamplers/nessai_interface.py:604: UserWarning: FigureCanvasAgg is non-interactive, and thus cannot be shown\n",
      "  fig.show()\n",
      "/var/folders/6y/nrh4dqv10xxc55k_v95rl4l00000gn/T/ipykernel_36962/2166721642.py:2: UserWarning: FigureCanvasAgg is non-interactive, and thus cannot be shown\n",
      "  fig.show()\n"
     ]
    }
   ],
   "source": [
    "fig = bridge.plot_trace(plot_fixed=True)\n",
    "fig.show()"
   ]
  },
  {
   "cell_type": "code",
   "execution_count": 12,
   "id": "7e62aa20",
   "metadata": {},
   "outputs": [
    {
     "name": "stderr",
     "output_type": "stream",
     "text": [
      "/var/folders/6y/nrh4dqv10xxc55k_v95rl4l00000gn/T/ipykernel_36962/509014709.py:2: UserWarning: FigureCanvasAgg is non-interactive, and thus cannot be shown\n",
      "  fig2.show()\n"
     ]
    }
   ],
   "source": [
    "fig2 = bridge.plot_corner()\n",
    "fig2.show()"
   ]
  },
  {
   "cell_type": "code",
   "execution_count": null,
   "id": "e1098ccd",
   "metadata": {},
   "outputs": [],
   "source": []
  },
  {
   "cell_type": "code",
   "execution_count": null,
   "id": "1523ab22",
   "metadata": {},
   "outputs": [],
   "source": []
  }
 ],
 "metadata": {
  "kernelspec": {
   "display_name": "PTAEnterprise",
   "language": "python",
   "name": "python3"
  },
  "language_info": {
   "codemirror_mode": {
    "name": "ipython",
    "version": 3
   },
   "file_extension": ".py",
   "mimetype": "text/x-python",
   "name": "python",
   "nbconvert_exporter": "python",
   "pygments_lexer": "ipython3",
   "version": "3.10.13"
  }
 },
 "nbformat": 4,
 "nbformat_minor": 5
}
